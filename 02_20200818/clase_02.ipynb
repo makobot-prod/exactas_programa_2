{
 "cells": [
  {
   "cell_type": "code",
   "execution_count": 30,
   "metadata": {},
   "outputs": [],
   "source": [
    "import pandas as pd\n",
    "import seaborn as sns\n",
    "import matplotlib.pyplot as plt\n",
    "import numpy as np"
   ]
  },
  {
   "cell_type": "markdown",
   "metadata": {},
   "source": [
    "#### Ejercicio 1"
   ]
  },
  {
   "cell_type": "code",
   "execution_count": 3,
   "metadata": {},
   "outputs": [
    {
     "data": {
      "text/html": [
       "<div>\n",
       "<style scoped>\n",
       "    .dataframe tbody tr th:only-of-type {\n",
       "        vertical-align: middle;\n",
       "    }\n",
       "\n",
       "    .dataframe tbody tr th {\n",
       "        vertical-align: top;\n",
       "    }\n",
       "\n",
       "    .dataframe thead th {\n",
       "        text-align: right;\n",
       "    }\n",
       "</style>\n",
       "<table border=\"1\" class=\"dataframe\">\n",
       "  <thead>\n",
       "    <tr style=\"text-align: right;\">\n",
       "      <th></th>\n",
       "      <th>1800</th>\n",
       "      <th>1801</th>\n",
       "      <th>1802</th>\n",
       "      <th>1803</th>\n",
       "      <th>1804</th>\n",
       "      <th>1805</th>\n",
       "      <th>1806</th>\n",
       "      <th>1807</th>\n",
       "      <th>1808</th>\n",
       "      <th>1809</th>\n",
       "      <th>...</th>\n",
       "      <th>2031</th>\n",
       "      <th>2032</th>\n",
       "      <th>2033</th>\n",
       "      <th>2034</th>\n",
       "      <th>2035</th>\n",
       "      <th>2036</th>\n",
       "      <th>2037</th>\n",
       "      <th>2038</th>\n",
       "      <th>2039</th>\n",
       "      <th>2040</th>\n",
       "    </tr>\n",
       "    <tr>\n",
       "      <th>country</th>\n",
       "      <th></th>\n",
       "      <th></th>\n",
       "      <th></th>\n",
       "      <th></th>\n",
       "      <th></th>\n",
       "      <th></th>\n",
       "      <th></th>\n",
       "      <th></th>\n",
       "      <th></th>\n",
       "      <th></th>\n",
       "      <th></th>\n",
       "      <th></th>\n",
       "      <th></th>\n",
       "      <th></th>\n",
       "      <th></th>\n",
       "      <th></th>\n",
       "      <th></th>\n",
       "      <th></th>\n",
       "      <th></th>\n",
       "      <th></th>\n",
       "      <th></th>\n",
       "    </tr>\n",
       "  </thead>\n",
       "  <tbody>\n",
       "    <tr>\n",
       "      <th>Afghanistan</th>\n",
       "      <td>603</td>\n",
       "      <td>603</td>\n",
       "      <td>603</td>\n",
       "      <td>603</td>\n",
       "      <td>603</td>\n",
       "      <td>603</td>\n",
       "      <td>603</td>\n",
       "      <td>603</td>\n",
       "      <td>603</td>\n",
       "      <td>603</td>\n",
       "      <td>...</td>\n",
       "      <td>2550</td>\n",
       "      <td>2600</td>\n",
       "      <td>2660</td>\n",
       "      <td>2710</td>\n",
       "      <td>2770</td>\n",
       "      <td>2820</td>\n",
       "      <td>2880</td>\n",
       "      <td>2940</td>\n",
       "      <td>3000</td>\n",
       "      <td>3060</td>\n",
       "    </tr>\n",
       "    <tr>\n",
       "      <th>Albania</th>\n",
       "      <td>667</td>\n",
       "      <td>667</td>\n",
       "      <td>667</td>\n",
       "      <td>667</td>\n",
       "      <td>667</td>\n",
       "      <td>668</td>\n",
       "      <td>668</td>\n",
       "      <td>668</td>\n",
       "      <td>668</td>\n",
       "      <td>668</td>\n",
       "      <td>...</td>\n",
       "      <td>19400</td>\n",
       "      <td>19800</td>\n",
       "      <td>20200</td>\n",
       "      <td>20600</td>\n",
       "      <td>21000</td>\n",
       "      <td>21500</td>\n",
       "      <td>21900</td>\n",
       "      <td>22300</td>\n",
       "      <td>22800</td>\n",
       "      <td>23300</td>\n",
       "    </tr>\n",
       "    <tr>\n",
       "      <th>Algeria</th>\n",
       "      <td>715</td>\n",
       "      <td>716</td>\n",
       "      <td>717</td>\n",
       "      <td>718</td>\n",
       "      <td>719</td>\n",
       "      <td>720</td>\n",
       "      <td>721</td>\n",
       "      <td>722</td>\n",
       "      <td>723</td>\n",
       "      <td>724</td>\n",
       "      <td>...</td>\n",
       "      <td>14300</td>\n",
       "      <td>14600</td>\n",
       "      <td>14900</td>\n",
       "      <td>15200</td>\n",
       "      <td>15500</td>\n",
       "      <td>15800</td>\n",
       "      <td>16100</td>\n",
       "      <td>16500</td>\n",
       "      <td>16800</td>\n",
       "      <td>17100</td>\n",
       "    </tr>\n",
       "    <tr>\n",
       "      <th>Andorra</th>\n",
       "      <td>1200</td>\n",
       "      <td>1200</td>\n",
       "      <td>1200</td>\n",
       "      <td>1200</td>\n",
       "      <td>1210</td>\n",
       "      <td>1210</td>\n",
       "      <td>1210</td>\n",
       "      <td>1210</td>\n",
       "      <td>1220</td>\n",
       "      <td>1220</td>\n",
       "      <td>...</td>\n",
       "      <td>73600</td>\n",
       "      <td>75100</td>\n",
       "      <td>76700</td>\n",
       "      <td>78300</td>\n",
       "      <td>79800</td>\n",
       "      <td>81500</td>\n",
       "      <td>83100</td>\n",
       "      <td>84800</td>\n",
       "      <td>86500</td>\n",
       "      <td>88300</td>\n",
       "    </tr>\n",
       "    <tr>\n",
       "      <th>Angola</th>\n",
       "      <td>618</td>\n",
       "      <td>620</td>\n",
       "      <td>623</td>\n",
       "      <td>626</td>\n",
       "      <td>628</td>\n",
       "      <td>631</td>\n",
       "      <td>634</td>\n",
       "      <td>637</td>\n",
       "      <td>640</td>\n",
       "      <td>642</td>\n",
       "      <td>...</td>\n",
       "      <td>6110</td>\n",
       "      <td>6230</td>\n",
       "      <td>6350</td>\n",
       "      <td>6480</td>\n",
       "      <td>6610</td>\n",
       "      <td>6740</td>\n",
       "      <td>6880</td>\n",
       "      <td>7020</td>\n",
       "      <td>7160</td>\n",
       "      <td>7310</td>\n",
       "    </tr>\n",
       "  </tbody>\n",
       "</table>\n",
       "<p>5 rows × 241 columns</p>\n",
       "</div>"
      ],
      "text/plain": [
       "             1800  1801  1802  1803  1804  1805  1806  1807  1808  1809  ...  \\\n",
       "country                                                                  ...   \n",
       "Afghanistan   603   603   603   603   603   603   603   603   603   603  ...   \n",
       "Albania       667   667   667   667   667   668   668   668   668   668  ...   \n",
       "Algeria       715   716   717   718   719   720   721   722   723   724  ...   \n",
       "Andorra      1200  1200  1200  1200  1210  1210  1210  1210  1220  1220  ...   \n",
       "Angola        618   620   623   626   628   631   634   637   640   642  ...   \n",
       "\n",
       "              2031   2032   2033   2034   2035   2036   2037   2038   2039  \\\n",
       "country                                                                      \n",
       "Afghanistan   2550   2600   2660   2710   2770   2820   2880   2940   3000   \n",
       "Albania      19400  19800  20200  20600  21000  21500  21900  22300  22800   \n",
       "Algeria      14300  14600  14900  15200  15500  15800  16100  16500  16800   \n",
       "Andorra      73600  75100  76700  78300  79800  81500  83100  84800  86500   \n",
       "Angola        6110   6230   6350   6480   6610   6740   6880   7020   7160   \n",
       "\n",
       "              2040  \n",
       "country             \n",
       "Afghanistan   3060  \n",
       "Albania      23300  \n",
       "Algeria      17100  \n",
       "Andorra      88300  \n",
       "Angola        7310  \n",
       "\n",
       "[5 rows x 241 columns]"
      ]
     },
     "execution_count": 3,
     "metadata": {},
     "output_type": "execute_result"
    }
   ],
   "source": [
    "pbi = pd.read_csv(\"./ep2020inv-pbi.csv\",index_col=0)\n",
    "#pbi=pd.read_csv(\"http://bit.do/ep2020inv-pbi\",index_col=0)\n",
    "pbi.head()"
   ]
  },
  {
   "cell_type": "code",
   "execution_count": 18,
   "metadata": {},
   "outputs": [
    {
     "name": "stdout",
     "output_type": "stream",
     "text": [
      "(193, 241)\n",
      "Index(['1800', '1801', '1802', '1803', '1804', '1805', '1806', '1807', '1808',\n",
      "       '1809',\n",
      "       ...\n",
      "       '2031', '2032', '2033', '2034', '2035', '2036', '2037', '2038', '2039',\n",
      "       '2040'],\n",
      "      dtype='object', length=241)\n",
      "Index(['Afghanistan', 'Albania', 'Algeria', 'Andorra', 'Angola',\n",
      "       'Antigua and Barbuda', 'Argentina', 'Armenia', 'Australia', 'Austria',\n",
      "       ...\n",
      "       'United Kingdom', 'United States', 'Uruguay', 'Uzbekistan', 'Vanuatu',\n",
      "       'Venezuela', 'Vietnam', 'Yemen', 'Zambia', 'Zimbabwe'],\n",
      "      dtype='object', name='country', length=193)\n"
     ]
    }
   ],
   "source": [
    "print(pbi.shape)\n",
    "print(pbi.columns)\n",
    "print(pbi.index)"
   ]
  },
  {
   "cell_type": "markdown",
   "metadata": {},
   "source": [
    "Hay 193 países representados, hay datos registrados para los años 1800 a 2040."
   ]
  },
  {
   "cell_type": "markdown",
   "metadata": {},
   "source": [
    "#### Ejercicio 2"
   ]
  },
  {
   "cell_type": "code",
   "execution_count": 32,
   "metadata": {},
   "outputs": [
    {
     "data": {
      "image/png": "[encoded data removed]",
      "text/plain": [
       "<Figure size 432x288 with 1 Axes>"
      ]
     },
     "metadata": {
      "needs_background": "light"
     },
     "output_type": "display_data"
    }
   ],
   "source": [
    "pbi_arg = pbi[[str(x) for x in range(1900,2019)]]\n",
    "sns.scatterplot(y=pbi_arg.loc['Argentina'],x=list(range(1900,2019)))\n",
    "plt.xlabel(\"Año\");\n",
    "plt.ylabel(\"PBI Argentina\");"
   ]
  },
  {
   "cell_type": "markdown",
   "metadata": {},
   "source": [
    "#### Ejercicio 3"
   ]
  },
  {
   "cell_type": "code",
   "execution_count": 34,
   "metadata": {},
   "outputs": [],
   "source": [
    "geo=pd.read_csv(\"./ep2020inv-geo.csv\",index_col='name')\n",
    "#geo=pd.read_csv(\"http://bit.do/ep2020inv-geo\",index_col='name')"
   ]
  },
  {
   "cell_type": "code",
   "execution_count": 35,
   "metadata": {},
   "outputs": [
    {
     "name": "stdout",
     "output_type": "stream",
     "text": [
      "(197, 11)\n",
      "Index(['geo', 'four_regions', 'eight_regions', 'six_regions',\n",
      "       'members_oecd_g77', 'Latitude', 'Longitude', 'UN member since',\n",
      "       'World bank region', 'World bank, 4 income groups 2017',\n",
      "       'World bank, 3 income groups 2017'],\n",
      "      dtype='object')\n",
      "Index(['Afghanistan', 'Albania', 'Algeria', 'Andorra', 'Angola',\n",
      "       'Antigua and Barbuda', 'Argentina', 'Armenia', 'Australia', 'Austria',\n",
      "       ...\n",
      "       'Uruguay', 'Uzbekistan', 'Vanuatu', 'Venezuela', 'Palestine', 'Vietnam',\n",
      "       'Yemen', 'Zambia', 'Zimbabwe', 'South Sudan'],\n",
      "      dtype='object', name='name', length=197)\n"
     ]
    }
   ],
   "source": [
    "print(geo.shape)\n",
    "print(geo.columns)\n",
    "print(geo.index)"
   ]
  },
  {
   "cell_type": "markdown",
   "metadata": {},
   "source": [
    "#### Ejercicio 4"
   ]
  },
  {
   "cell_type": "code",
   "execution_count": 40,
   "metadata": {},
   "outputs": [
    {
     "data": {
      "text/html": [
       "<div>\n",
       "<style scoped>\n",
       "    .dataframe tbody tr th:only-of-type {\n",
       "        vertical-align: middle;\n",
       "    }\n",
       "\n",
       "    .dataframe tbody tr th {\n",
       "        vertical-align: top;\n",
       "    }\n",
       "\n",
       "    .dataframe thead th {\n",
       "        text-align: right;\n",
       "    }\n",
       "</style>\n",
       "<table border=\"1\" class=\"dataframe\">\n",
       "  <thead>\n",
       "    <tr style=\"text-align: right;\">\n",
       "      <th></th>\n",
       "      <th>geo</th>\n",
       "      <th>eight_regions</th>\n",
       "      <th>six_regions</th>\n",
       "      <th>members_oecd_g77</th>\n",
       "      <th>Latitude</th>\n",
       "      <th>Longitude</th>\n",
       "      <th>UN member since</th>\n",
       "      <th>World bank region</th>\n",
       "      <th>World bank, 4 income groups 2017</th>\n",
       "      <th>World bank, 3 income groups 2017</th>\n",
       "    </tr>\n",
       "    <tr>\n",
       "      <th>four_regions</th>\n",
       "      <th></th>\n",
       "      <th></th>\n",
       "      <th></th>\n",
       "      <th></th>\n",
       "      <th></th>\n",
       "      <th></th>\n",
       "      <th></th>\n",
       "      <th></th>\n",
       "      <th></th>\n",
       "      <th></th>\n",
       "    </tr>\n",
       "  </thead>\n",
       "  <tbody>\n",
       "    <tr>\n",
       "      <th>africa</th>\n",
       "      <td>54</td>\n",
       "      <td>54</td>\n",
       "      <td>54</td>\n",
       "      <td>53</td>\n",
       "      <td>54</td>\n",
       "      <td>54</td>\n",
       "      <td>54</td>\n",
       "      <td>54</td>\n",
       "      <td>54</td>\n",
       "      <td>0</td>\n",
       "    </tr>\n",
       "    <tr>\n",
       "      <th>americas</th>\n",
       "      <td>35</td>\n",
       "      <td>35</td>\n",
       "      <td>35</td>\n",
       "      <td>35</td>\n",
       "      <td>35</td>\n",
       "      <td>35</td>\n",
       "      <td>35</td>\n",
       "      <td>35</td>\n",
       "      <td>35</td>\n",
       "      <td>0</td>\n",
       "    </tr>\n",
       "    <tr>\n",
       "      <th>asia</th>\n",
       "      <td>59</td>\n",
       "      <td>59</td>\n",
       "      <td>59</td>\n",
       "      <td>59</td>\n",
       "      <td>59</td>\n",
       "      <td>59</td>\n",
       "      <td>56</td>\n",
       "      <td>59</td>\n",
       "      <td>59</td>\n",
       "      <td>0</td>\n",
       "    </tr>\n",
       "    <tr>\n",
       "      <th>europe</th>\n",
       "      <td>49</td>\n",
       "      <td>49</td>\n",
       "      <td>49</td>\n",
       "      <td>49</td>\n",
       "      <td>49</td>\n",
       "      <td>49</td>\n",
       "      <td>48</td>\n",
       "      <td>48</td>\n",
       "      <td>48</td>\n",
       "      <td>0</td>\n",
       "    </tr>\n",
       "  </tbody>\n",
       "</table>\n",
       "</div>"
      ],
      "text/plain": [
       "              geo  eight_regions  six_regions  members_oecd_g77  Latitude  \\\n",
       "four_regions                                                                \n",
       "africa         54             54           54                53        54   \n",
       "americas       35             35           35                35        35   \n",
       "asia           59             59           59                59        59   \n",
       "europe         49             49           49                49        49   \n",
       "\n",
       "              Longitude  UN member since  World bank region  \\\n",
       "four_regions                                                  \n",
       "africa               54               54                 54   \n",
       "americas             35               35                 35   \n",
       "asia                 59               56                 59   \n",
       "europe               49               48                 48   \n",
       "\n",
       "              World bank, 4 income groups 2017  \\\n",
       "four_regions                                     \n",
       "africa                                      54   \n",
       "americas                                    35   \n",
       "asia                                        59   \n",
       "europe                                      48   \n",
       "\n",
       "              World bank, 3 income groups 2017  \n",
       "four_regions                                    \n",
       "africa                                       0  \n",
       "americas                                     0  \n",
       "asia                                         0  \n",
       "europe                                       0  "
      ]
     },
     "execution_count": 40,
     "metadata": {},
     "output_type": "execute_result"
    }
   ],
   "source": [
    "geo.groupby('four_regions').count()"
   ]
  },
  {
   "cell_type": "code",
   "execution_count": 72,
   "metadata": {},
   "outputs": [
    {
     "name": "stdout",
     "output_type": "stream",
     "text": [
      "[ERROR] El país North Macedonia no tiene región\n",
      "          1800  1801  1802  1803  1804  1805  1806  1807  1808  1809  ...  \\\n",
      "region                                                                ...   \n",
      "africa      54    54    54    54    54    54    54    54    54    54  ...   \n",
      "americas    35    35    35    35    35    35    35    35    35    35  ...   \n",
      "asia        57    57    57    57    57    57    57    57    57    57  ...   \n",
      "europe      46    46    46    46    46    46    46    46    46    46  ...   \n",
      "\n",
      "          2031  2032  2033  2034  2035  2036  2037  2038  2039  2040  \n",
      "region                                                                \n",
      "africa      54    54    54    54    54    54    54    54    54    54  \n",
      "americas    35    35    35    35    35    35    35    35    35    35  \n",
      "asia        57    57    57    57    57    57    57    57    57    57  \n",
      "europe      46    46    46    46    46    46    46    46    46    46  \n",
      "\n",
      "[4 rows x 241 columns]\n"
     ]
    }
   ],
   "source": [
    "#Precond: tiene países en su índice\n",
    "def obtener_region(X):\n",
    "    try:\n",
    "        return geo.loc[X.name,'four_regions']\n",
    "    except:\n",
    "        print(\"[ERROR] El país\",X.name,\"no tiene región\")\n",
    "        return np.nan\n",
    "\n",
    "#Precond: tiene países en su índice\n",
    "def agregar_region(df):\n",
    "    df['region'] = df.apply(obtener_region,axis=1)\n",
    "\n",
    "pbi2 = pbi.copy()\n",
    "agregar_region(pbi2)\n",
    "print(pbi2.groupby('region').count())"
   ]
  },
  {
   "cell_type": "markdown",
   "metadata": {},
   "source": [
    "#### Ejercicio 5"
   ]
  },
  {
   "cell_type": "code",
   "execution_count": 81,
   "metadata": {},
   "outputs": [
    {
     "data": {
      "text/plain": [
       "country\n",
       "Monaco                   50200\n",
       "Switzerland              50800\n",
       "Singapore                52400\n",
       "Norway                   58000\n",
       "Kuwait                   70100\n",
       "San Marino               75600\n",
       "Luxembourg               81700\n",
       "Brunei                   82100\n",
       "United Arab Emirates    103000\n",
       "Qatar                   108000\n",
       "Name: 2000, dtype: int64"
      ]
     },
     "execution_count": 81,
     "metadata": {},
     "output_type": "execute_result"
    }
   ],
   "source": [
    "(pbi.sort_values(by=['2000']))['2000'].iloc[-10:].head(10)"
   ]
  },
  {
   "cell_type": "markdown",
   "metadata": {},
   "source": [
    "#### Ejercicio 6"
   ]
  },
  {
   "cell_type": "code",
   "execution_count": 125,
   "metadata": {},
   "outputs": [
    {
     "data": {
      "image/png": "[encoded data removed]",
      "text/plain": [
       "<Figure size 432x288 with 1 Axes>"
      ]
     },
     "metadata": {
      "needs_background": "light"
     },
     "output_type": "display_data"
    }
   ],
   "source": [
    "df_pbies = (pbi.sort_values(by=['2000']))[['2000']]\n",
    "df_pobres = df_pbies.iloc[:10].copy()\n",
    "df_ricos = df_pbies.iloc[-10:].copy()\n",
    "df_pbies = pd.concat([df_pobres,df_ricos])\n",
    "agregar_region(df_pbies)\n",
    "fig = sns.barplot(x=df_pbies.index,y=df_pbies['2000'],hue=df_pbies['region'])\n",
    "fig.set_yscale('log')\n",
    "plt.xticks(rotation=90);"
   ]
  },
  {
   "cell_type": "markdown",
   "metadata": {},
   "source": [
    "#### Ejercicio 7"
   ]
  },
  {
   "cell_type": "code",
   "execution_count": 132,
   "metadata": {},
   "outputs": [
    {
     "data": {
      "image/png": "[encoded data removed]",
      "text/plain": [
       "<Figure size 432x288 with 1 Axes>"
      ]
     },
     "metadata": {
      "needs_background": "light"
     },
     "output_type": "display_data"
    }
   ],
   "source": [
    "#Precond: recibe un dataframe organizado como pbi\n",
    "def seleccionar_extremos(df,n,anio):\n",
    "    df_ret = (df.sort_values(by=[anio]))\n",
    "    df_first = df_ret.iloc[:n]\n",
    "    df_last = df_ret.iloc[-(n):]\n",
    "    df_ret = pd.concat([df_first,df_last])\n",
    "    return df_ret\n",
    "\n",
    "df = seleccionar_extremos(pbi, 5, '2001')\n",
    "agregar_region(df)\n",
    "fig = sns.barplot(x=df.index,y=df['2001'],hue=df['region'])\n",
    "fig.set_yscale('log')\n",
    "plt.xticks(rotation=90)"
   ]
  },
  {
   "cell_type": "markdown",
   "metadata": {},
   "source": [
    "#### Ejercicio 8"
   ]
  },
  {
   "cell_type": "code",
   "execution_count": null,
   "metadata": {},
   "outputs": [],
   "source": []
  }
 ],
 "metadata": {
  "kernelspec": {
   "display_name": "Python 3",
   "language": "python",
   "name": "python3"
  },
  "language_info": {
   "codemirror_mode": {
    "name": "ipython",
    "version": 3
   },
   "file_extension": ".py",
   "mimetype": "text/x-python",
   "name": "python",
   "nbconvert_exporter": "python",
   "pygments_lexer": "ipython3",
   "version": "3.6.9"
  }
 },
 "nbformat": 4,
 "nbformat_minor": 2
}
